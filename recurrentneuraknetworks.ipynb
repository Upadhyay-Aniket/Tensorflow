{
  "nbformat": 4,
  "nbformat_minor": 0,
  "metadata": {
    "colab": {
      "provenance": []
    },
    "kernelspec": {
      "name": "python3",
      "display_name": "Python 3"
    },
    "language_info": {
      "name": "python"
    }
  },
  "cells": [
    {
      "cell_type": "code",
      "execution_count": 18,
      "metadata": {
        "id": "MKMAI3aRnzkW"
      },
      "outputs": [],
      "source": [
        "import os\n",
        "os.environ['TF_CPP_MIN_LOG_LEVEL'] = '2'\n",
        "\n",
        "import tensorflow as tf\n",
        "from tensorflow import keras\n",
        "from tensorflow.keras import layers\n",
        "from tensorflow.keras import Sequential\n",
        "from tensorflow.keras.layers import Dense\n",
        "\n",
        "mnist = keras.datasets.mnist\n",
        "\n",
        "(x_train, y_train), (x_test, y_test) = mnist.load_data()\n",
        "x_train,x_test =  x_train / 255.0, x_test / 255.0"
      ]
    },
    {
      "cell_type": "code",
      "source": [
        "# model\n",
        "model = keras.models.Sequential()\n",
        "model.add(keras.Input(shape=(28,28)))\n",
        "model.add(keras.layers.LSTM(128,return_sequences=True, activation='relu'))\n",
        "model.add(keras.layers.GRU(128,return_sequences=True, activation='relu'))\n",
        "model.add(keras.layers.SimpleRNN(128,return_sequences=True, activation='relu'))\n",
        "model.add(layers.Dense(10))\n",
        "\n",
        "print(model.summary())\n",
        "\n",
        "# import sys; sys.exit()\n"
      ],
      "metadata": {
        "colab": {
          "base_uri": "https://localhost:8080/"
        },
        "id": "kVe3q943qO9j",
        "outputId": "8e41cd08-4193-42aa-e764-9f8988d33c99"
      },
      "execution_count": 19,
      "outputs": [
        {
          "output_type": "stream",
          "name": "stdout",
          "text": [
            "Model: \"sequential_6\"\n",
            "_________________________________________________________________\n",
            " Layer (type)                Output Shape              Param #   \n",
            "=================================================================\n",
            " lstm_1 (LSTM)               (None, 28, 128)           80384     \n",
            "                                                                 \n",
            " gru_1 (GRU)                 (None, 28, 128)           99072     \n",
            "                                                                 \n",
            " simple_rnn_6 (SimpleRNN)    (None, 28, 128)           32896     \n",
            "                                                                 \n",
            " dense_4 (Dense)             (None, 28, 10)            1290      \n",
            "                                                                 \n",
            "=================================================================\n",
            "Total params: 213642 (834.54 KB)\n",
            "Trainable params: 213642 (834.54 KB)\n",
            "Non-trainable params: 0 (0.00 Byte)\n",
            "_________________________________________________________________\n",
            "None\n"
          ]
        }
      ]
    },
    {
      "cell_type": "code",
      "source": [
        "# loss and optimizer\n",
        "loss = keras.losses.SparseCategoricalCrossentropy(from_logits=True)\n",
        "optim = keras.optimizers.Adam(learning_rate=0.001)\n",
        "metrics = [\"accuracy\"]\n",
        "\n",
        "model.compile(loss=loss, optimizer=optim, metrics=metrics)\n",
        "model.compile(optimizer=\"adam\", loss=\"mean_squared_error\")"
      ],
      "metadata": {
        "id": "_Uob6B2qskFo"
      },
      "execution_count": 24,
      "outputs": []
    },
    {
      "cell_type": "code",
      "source": [
        "# training\n",
        "batch_size = 64\n",
        "epochs = 10\n",
        "\n",
        "model.fit(x_train, y_train, batch_size=batch_size, epochs=epochs, verbose=2)\n"
      ],
      "metadata": {
        "id": "YNL0OhXftHkv"
      },
      "execution_count": null,
      "outputs": []
    },
    {
      "cell_type": "code",
      "source": [
        "# evaluate\n",
        "model.evaluate(x_test, y_test, batch_size=batch_size, verbose=2)"
      ],
      "metadata": {
        "colab": {
          "base_uri": "https://localhost:8080/"
        },
        "id": "1X3Kk5CutpIC",
        "outputId": "50dcbc39-f7ba-4c7f-b76f-77b99a263265"
      },
      "execution_count": 12,
      "outputs": [
        {
          "output_type": "stream",
          "name": "stdout",
          "text": [
            "157/157 - 2s - loss: 0.1290 - accuracy: 0.9622 - 2s/epoch - 13ms/step\n"
          ]
        },
        {
          "output_type": "execute_result",
          "data": {
            "text/plain": [
              "[0.12899520993232727, 0.9621999859809875]"
            ]
          },
          "metadata": {},
          "execution_count": 12
        }
      ]
    }
  ]
}